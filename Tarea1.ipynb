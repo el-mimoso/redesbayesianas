{
 "cells": [
  {
   "cell_type": "markdown",
   "metadata": {},
   "source": [
    "**Importación de bibliotecas necesarias**"
   ]
  },
  {
   "cell_type": "code",
   "execution_count": 86,
   "metadata": {},
   "outputs": [],
   "source": [
    "import pyAgrum as gum\n",
    "import pyAgrum.lib.notebook as gnb"
   ]
  },
  {
   "cell_type": "markdown",
   "metadata": {},
   "source": [
    "**Configuracion de la Red Bayesiana**  \n",
    "Se inicia una red bayesiana vacía"
   ]
  },
  {
   "cell_type": "code",
   "execution_count": 87,
   "metadata": {},
   "outputs": [],
   "source": [
    "bn = gum.BayesNet()"
   ]
  },
  {
   "cell_type": "markdown",
   "metadata": {},
   "source": [
    "**Creación de nodos de la Red**  \n",
    "Se crea una variable por cada nodo de la red. Cada nodo recibe 3 parámetros: nombre de variable, descripción y número de valores. En este caso es 2 uno para True y False."
   ]
  },
  {
   "cell_type": "code",
   "execution_count": 88,
   "metadata": {},
   "outputs": [],
   "source": [
    "c =  bn.add(gum.LabelizedVariable('C','creative', 2))\n",
    "s =  bn.add(gum.LabelizedVariable('S','smart', 2))\n",
    "p =  bn.add(gum.LabelizedVariable('P','party', 2))\n",
    "pr =  bn.add(gum.LabelizedVariable('Pr','project', 2))\n",
    "m =  bn.add(gum.LabelizedVariable('M','macintosh', 2))\n",
    "hw =  bn.add(gum.LabelizedVariable('HW','homework', 2))\n",
    "su =  bn.add(gum.LabelizedVariable('Su','success', 2))\n",
    "h =  bn.add(gum.LabelizedVariable('H','happy', 2))"
   ]
  },
  {
   "cell_type": "markdown",
   "metadata": {},
   "source": [
    "Visualizar los nodos creados"
   ]
  },
  {
   "cell_type": "code",
   "execution_count": 89,
   "metadata": {},
   "outputs": [
    {
     "data": {
      "text/html": [
       "<svg xmlns=\"http://www.w3.org/2000/svg\" xmlns:xlink=\"http://www.w3.org/1999/xlink\" width=\"360pt\" height=\"28pt\" viewBox=\"0.00 0.00 360.00 27.99\">\n",
       "<g id=\"graph0\" class=\"graph\" transform=\"scale(0.636042 0.636042) rotate(0) translate(4 40)\">\n",
       "<title>G</title>\n",
       "<!-- H -->\n",
       "<g id=\"node1\" class=\"node\">\n",
       "<title>H</title>\n",
       "<g id=\"a_node1\"><a xlink:title=\"(7) H\">\n",
       "<ellipse fill=\"#404040\" stroke=\"black\" cx=\"27\" cy=\"-18\" rx=\"27\" ry=\"18\"/>\n",
       "<text text-anchor=\"middle\" x=\"27\" y=\"-14.3\" font-family=\"Times New Roman,serif\" font-size=\"14.00\" fill=\"white\">H</text>\n",
       "</a>\n",
       "</g>\n",
       "</g>\n",
       "<!-- P -->\n",
       "<g id=\"node2\" class=\"node\">\n",
       "<title>P</title>\n",
       "<g id=\"a_node2\"><a xlink:title=\"(2) P\">\n",
       "<ellipse fill=\"#404040\" stroke=\"black\" cx=\"99\" cy=\"-18\" rx=\"27\" ry=\"18\"/>\n",
       "<text text-anchor=\"middle\" x=\"99\" y=\"-14.3\" font-family=\"Times New Roman,serif\" font-size=\"14.00\" fill=\"white\">P</text>\n",
       "</a>\n",
       "</g>\n",
       "</g>\n",
       "<!-- C -->\n",
       "<g id=\"node3\" class=\"node\">\n",
       "<title>C</title>\n",
       "<g id=\"a_node3\"><a xlink:title=\"(0) C\">\n",
       "<ellipse fill=\"#404040\" stroke=\"black\" cx=\"171\" cy=\"-18\" rx=\"27\" ry=\"18\"/>\n",
       "<text text-anchor=\"middle\" x=\"171\" y=\"-14.3\" font-family=\"Times New Roman,serif\" font-size=\"14.00\" fill=\"white\">C</text>\n",
       "</a>\n",
       "</g>\n",
       "</g>\n",
       "<!-- Su -->\n",
       "<g id=\"node4\" class=\"node\">\n",
       "<title>Su</title>\n",
       "<g id=\"a_node4\"><a xlink:title=\"(6) Su\">\n",
       "<ellipse fill=\"#404040\" stroke=\"black\" cx=\"243\" cy=\"-18\" rx=\"27\" ry=\"18\"/>\n",
       "<text text-anchor=\"middle\" x=\"243\" y=\"-14.3\" font-family=\"Times New Roman,serif\" font-size=\"14.00\" fill=\"white\">Su</text>\n",
       "</a>\n",
       "</g>\n",
       "</g>\n",
       "<!-- M -->\n",
       "<g id=\"node5\" class=\"node\">\n",
       "<title>M</title>\n",
       "<g id=\"a_node5\"><a xlink:title=\"(4) M\">\n",
       "<ellipse fill=\"#404040\" stroke=\"black\" cx=\"315\" cy=\"-18\" rx=\"27\" ry=\"18\"/>\n",
       "<text text-anchor=\"middle\" x=\"315\" y=\"-14.3\" font-family=\"Times New Roman,serif\" font-size=\"14.00\" fill=\"white\">M</text>\n",
       "</a>\n",
       "</g>\n",
       "</g>\n",
       "<!-- Pr -->\n",
       "<g id=\"node6\" class=\"node\">\n",
       "<title>Pr</title>\n",
       "<g id=\"a_node6\"><a xlink:title=\"(3) Pr\">\n",
       "<ellipse fill=\"#404040\" stroke=\"black\" cx=\"387\" cy=\"-18\" rx=\"27\" ry=\"18\"/>\n",
       "<text text-anchor=\"middle\" x=\"387\" y=\"-14.3\" font-family=\"Times New Roman,serif\" font-size=\"14.00\" fill=\"white\">Pr</text>\n",
       "</a>\n",
       "</g>\n",
       "</g>\n",
       "<!-- S -->\n",
       "<g id=\"node7\" class=\"node\">\n",
       "<title>S</title>\n",
       "<g id=\"a_node7\"><a xlink:title=\"(1) S\">\n",
       "<ellipse fill=\"#404040\" stroke=\"black\" cx=\"459\" cy=\"-18\" rx=\"27\" ry=\"18\"/>\n",
       "<text text-anchor=\"middle\" x=\"459\" y=\"-14.3\" font-family=\"Times New Roman,serif\" font-size=\"14.00\" fill=\"white\">S</text>\n",
       "</a>\n",
       "</g>\n",
       "</g>\n",
       "<!-- HW -->\n",
       "<g id=\"node8\" class=\"node\">\n",
       "<title>HW</title>\n",
       "<g id=\"a_node8\"><a xlink:title=\"(5) HW\">\n",
       "<ellipse fill=\"#404040\" stroke=\"black\" cx=\"531\" cy=\"-18\" rx=\"27\" ry=\"18\"/>\n",
       "<text text-anchor=\"middle\" x=\"531\" y=\"-14.3\" font-family=\"Times New Roman,serif\" font-size=\"14.00\" fill=\"white\">HW</text>\n",
       "</a>\n",
       "</g>\n",
       "</g>\n",
       "</g>\n",
       "</svg>"
      ],
      "text/plain": [
       "(pyAgrum.BayesNet<double>@0742C6E8) BN{nodes: 8, arcs: 0, domainSize: 256, dim: 16}"
      ]
     },
     "execution_count": 89,
     "metadata": {},
     "output_type": "execute_result"
    }
   ],
   "source": [
    "bn"
   ]
  },
  {
   "cell_type": "markdown",
   "metadata": {},
   "source": [
    "**Crear la unión entre nodos.**  \n",
    "Del objeto bn hacemos la unión entre los nodos. Señalando como primer argumento el nodo padre y como segundo el nodo hijo."
   ]
  },
  {
   "cell_type": "code",
   "execution_count": 90,
   "metadata": {},
   "outputs": [],
   "source": [
    "# creative padre\n",
    "bn.addArc(c,pr)\n",
    "bn.addArc(c,m)\n",
    "# smart padre\n",
    "bn.addArc(s,pr)\n",
    "bn.addArc(s,m)\n",
    "bn.addArc(s,hw)\n",
    "# party padre\n",
    "bn.addArc(p,hw)\n",
    "bn.addArc(p,h)\n",
    "# project padre\n",
    "bn.addArc(pr,su)\n",
    "# macintosh padre\n",
    "bn.addArc(m,h)\n",
    "# homework padre\n",
    "bn.addArc(hw,su)\n",
    "# success padre\n",
    "bn.addArc(su,h)\n",
    "\n"
   ]
  },
  {
   "cell_type": "markdown",
   "metadata": {},
   "source": [
    "**Visualizar grafo**  \n"
   ]
  },
  {
   "cell_type": "code",
   "execution_count": 91,
   "metadata": {},
   "outputs": [
    {
     "data": {
      "text/html": [
       "<svg xmlns=\"http://www.w3.org/2000/svg\" xmlns:xlink=\"http://www.w3.org/1999/xlink\" width=\"233pt\" height=\"260pt\" viewBox=\"0.00 0.00 233.00 260.00\">\n",
       "<g id=\"graph0\" class=\"graph\" transform=\"scale(1 1) rotate(0) translate(4 256)\">\n",
       "<title>G</title>\n",
       "<!-- H -->\n",
       "<g id=\"node1\" class=\"node\">\n",
       "<title>H</title>\n",
       "<g id=\"a_node1\"><a xlink:title=\"(7) H\">\n",
       "<ellipse fill=\"#404040\" stroke=\"black\" cx=\"90\" cy=\"-18\" rx=\"27\" ry=\"18\"/>\n",
       "<text text-anchor=\"middle\" x=\"90\" y=\"-14.3\" font-family=\"Times New Roman,serif\" font-size=\"14.00\" fill=\"white\">H</text>\n",
       "</a>\n",
       "</g>\n",
       "</g>\n",
       "<!-- P -->\n",
       "<g id=\"node2\" class=\"node\">\n",
       "<title>P</title>\n",
       "<g id=\"a_node2\"><a xlink:title=\"(2) P\">\n",
       "<ellipse fill=\"#404040\" stroke=\"black\" cx=\"27\" cy=\"-234\" rx=\"27\" ry=\"18\"/>\n",
       "<text text-anchor=\"middle\" x=\"27\" y=\"-230.3\" font-family=\"Times New Roman,serif\" font-size=\"14.00\" fill=\"white\">P</text>\n",
       "</a>\n",
       "</g>\n",
       "</g>\n",
       "<!-- P&#45;&gt;H -->\n",
       "<g id=\"edge11\" class=\"edge\">\n",
       "<title>P-&gt;H</title>\n",
       "<g id=\"a_edge11\"><a xlink:title=\"(2, 7) : \">\n",
       "<path fill=\"none\" stroke=\"#4a4a4a\" d=\"M22,-216.05C17.42,-197.98 12.18,-168.64 18,-144 27.17,-105.14 52.84,-66.21 70.91,-42.36\"/>\n",
       "<polygon fill=\"#4a4a4a\" stroke=\"#4a4a4a\" points=\"73.81,-44.33 77.17,-34.28 68.28,-40.04 73.81,-44.33\"/>\n",
       "</a>\n",
       "</g>\n",
       "</g>\n",
       "<!-- HW -->\n",
       "<g id=\"node8\" class=\"node\">\n",
       "<title>HW</title>\n",
       "<g id=\"a_node8\"><a xlink:title=\"(5) HW\">\n",
       "<ellipse fill=\"#404040\" stroke=\"black\" cx=\"54\" cy=\"-162\" rx=\"27\" ry=\"18\"/>\n",
       "<text text-anchor=\"middle\" x=\"54\" y=\"-158.3\" font-family=\"Times New Roman,serif\" font-size=\"14.00\" fill=\"white\">HW</text>\n",
       "</a>\n",
       "</g>\n",
       "</g>\n",
       "<!-- P&#45;&gt;HW -->\n",
       "<g id=\"edge5\" class=\"edge\">\n",
       "<title>P-&gt;HW</title>\n",
       "<g id=\"a_edge5\"><a xlink:title=\"(2, 5) : \">\n",
       "<path fill=\"none\" stroke=\"#4a4a4a\" d=\"M33.4,-216.41C36.51,-208.34 40.33,-198.43 43.83,-189.35\"/>\n",
       "<polygon fill=\"#4a4a4a\" stroke=\"#4a4a4a\" points=\"47.13,-190.55 47.46,-179.96 40.6,-188.03 47.13,-190.55\"/>\n",
       "</a>\n",
       "</g>\n",
       "</g>\n",
       "<!-- C -->\n",
       "<g id=\"node3\" class=\"node\">\n",
       "<title>C</title>\n",
       "<g id=\"a_node3\"><a xlink:title=\"(0) C\">\n",
       "<ellipse fill=\"#404040\" stroke=\"black\" cx=\"198\" cy=\"-234\" rx=\"27\" ry=\"18\"/>\n",
       "<text text-anchor=\"middle\" x=\"198\" y=\"-230.3\" font-family=\"Times New Roman,serif\" font-size=\"14.00\" fill=\"white\">C</text>\n",
       "</a>\n",
       "</g>\n",
       "</g>\n",
       "<!-- M -->\n",
       "<g id=\"node5\" class=\"node\">\n",
       "<title>M</title>\n",
       "<g id=\"a_node5\"><a xlink:title=\"(4) M\">\n",
       "<ellipse fill=\"#404040\" stroke=\"black\" cx=\"198\" cy=\"-162\" rx=\"27\" ry=\"18\"/>\n",
       "<text text-anchor=\"middle\" x=\"198\" y=\"-158.3\" font-family=\"Times New Roman,serif\" font-size=\"14.00\" fill=\"white\">M</text>\n",
       "</a>\n",
       "</g>\n",
       "</g>\n",
       "<!-- C&#45;&gt;M -->\n",
       "<g id=\"edge7\" class=\"edge\">\n",
       "<title>C-&gt;M</title>\n",
       "<g id=\"a_edge7\"><a xlink:title=\"(0, 4) : \">\n",
       "<path fill=\"none\" stroke=\"#4a4a4a\" d=\"M198,-215.7C198,-207.98 198,-198.71 198,-190.11\"/>\n",
       "<polygon fill=\"#4a4a4a\" stroke=\"#4a4a4a\" points=\"201.5,-190.1 198,-180.1 194.5,-190.1 201.5,-190.1\"/>\n",
       "</a>\n",
       "</g>\n",
       "</g>\n",
       "<!-- Pr -->\n",
       "<g id=\"node6\" class=\"node\">\n",
       "<title>Pr</title>\n",
       "<g id=\"a_node6\"><a xlink:title=\"(3) Pr\">\n",
       "<ellipse fill=\"#404040\" stroke=\"black\" cx=\"126\" cy=\"-162\" rx=\"27\" ry=\"18\"/>\n",
       "<text text-anchor=\"middle\" x=\"126\" y=\"-158.3\" font-family=\"Times New Roman,serif\" font-size=\"14.00\" fill=\"white\">Pr</text>\n",
       "</a>\n",
       "</g>\n",
       "</g>\n",
       "<!-- C&#45;&gt;Pr -->\n",
       "<g id=\"edge2\" class=\"edge\">\n",
       "<title>C-&gt;Pr</title>\n",
       "<g id=\"a_edge2\"><a xlink:title=\"(0, 3) : \">\n",
       "<path fill=\"none\" stroke=\"#4a4a4a\" d=\"M183.43,-218.83C173.25,-208.94 159.48,-195.55 147.97,-184.36\"/>\n",
       "<polygon fill=\"#4a4a4a\" stroke=\"#4a4a4a\" points=\"150.41,-181.85 140.8,-177.38 145.53,-186.87 150.41,-181.85\"/>\n",
       "</a>\n",
       "</g>\n",
       "</g>\n",
       "<!-- Su -->\n",
       "<g id=\"node4\" class=\"node\">\n",
       "<title>Su</title>\n",
       "<g id=\"a_node4\"><a xlink:title=\"(6) Su\">\n",
       "<ellipse fill=\"#404040\" stroke=\"black\" cx=\"90\" cy=\"-90\" rx=\"27\" ry=\"18\"/>\n",
       "<text text-anchor=\"middle\" x=\"90\" y=\"-86.3\" font-family=\"Times New Roman,serif\" font-size=\"14.00\" fill=\"white\">Su</text>\n",
       "</a>\n",
       "</g>\n",
       "</g>\n",
       "<!-- Su&#45;&gt;H -->\n",
       "<g id=\"edge3\" class=\"edge\">\n",
       "<title>Su-&gt;H</title>\n",
       "<g id=\"a_edge3\"><a xlink:title=\"(6, 7) : \">\n",
       "<path fill=\"none\" stroke=\"#4a4a4a\" d=\"M90,-71.7C90,-63.98 90,-54.71 90,-46.11\"/>\n",
       "<polygon fill=\"#4a4a4a\" stroke=\"#4a4a4a\" points=\"93.5,-46.1 90,-36.1 86.5,-46.1 93.5,-46.1\"/>\n",
       "</a>\n",
       "</g>\n",
       "</g>\n",
       "<!-- M&#45;&gt;H -->\n",
       "<g id=\"edge9\" class=\"edge\">\n",
       "<title>M-&gt;H</title>\n",
       "<g id=\"a_edge9\"><a xlink:title=\"(4, 7) : \">\n",
       "<path fill=\"none\" stroke=\"#4a4a4a\" d=\"M186.24,-145.53C167.33,-120.67 130.05,-71.66 107.85,-42.47\"/>\n",
       "<polygon fill=\"#4a4a4a\" stroke=\"#4a4a4a\" points=\"110.59,-40.29 101.75,-34.45 105.02,-44.53 110.59,-40.29\"/>\n",
       "</a>\n",
       "</g>\n",
       "</g>\n",
       "<!-- Pr&#45;&gt;Su -->\n",
       "<g id=\"edge1\" class=\"edge\">\n",
       "<title>Pr-&gt;Su</title>\n",
       "<g id=\"a_edge1\"><a xlink:title=\"(3, 6) : \">\n",
       "<path fill=\"none\" stroke=\"#4a4a4a\" d=\"M117.65,-144.76C113.29,-136.28 107.85,-125.71 102.96,-116.2\"/>\n",
       "<polygon fill=\"#4a4a4a\" stroke=\"#4a4a4a\" points=\"105.99,-114.44 98.3,-107.15 99.77,-117.64 105.99,-114.44\"/>\n",
       "</a>\n",
       "</g>\n",
       "</g>\n",
       "<!-- S -->\n",
       "<g id=\"node7\" class=\"node\">\n",
       "<title>S</title>\n",
       "<g id=\"a_node7\"><a xlink:title=\"(1) S\">\n",
       "<ellipse fill=\"#404040\" stroke=\"black\" cx=\"126\" cy=\"-234\" rx=\"27\" ry=\"18\"/>\n",
       "<text text-anchor=\"middle\" x=\"126\" y=\"-230.3\" font-family=\"Times New Roman,serif\" font-size=\"14.00\" fill=\"white\">S</text>\n",
       "</a>\n",
       "</g>\n",
       "</g>\n",
       "<!-- S&#45;&gt;M -->\n",
       "<g id=\"edge10\" class=\"edge\">\n",
       "<title>S-&gt;M</title>\n",
       "<g id=\"a_edge10\"><a xlink:title=\"(1, 4) : \">\n",
       "<path fill=\"none\" stroke=\"#4a4a4a\" d=\"M140.57,-218.83C150.75,-208.94 164.52,-195.55 176.03,-184.36\"/>\n",
       "<polygon fill=\"#4a4a4a\" stroke=\"#4a4a4a\" points=\"178.47,-186.87 183.2,-177.38 173.59,-181.85 178.47,-186.87\"/>\n",
       "</a>\n",
       "</g>\n",
       "</g>\n",
       "<!-- S&#45;&gt;Pr -->\n",
       "<g id=\"edge4\" class=\"edge\">\n",
       "<title>S-&gt;Pr</title>\n",
       "<g id=\"a_edge4\"><a xlink:title=\"(1, 3) : \">\n",
       "<path fill=\"none\" stroke=\"#4a4a4a\" d=\"M126,-215.7C126,-207.98 126,-198.71 126,-190.11\"/>\n",
       "<polygon fill=\"#4a4a4a\" stroke=\"#4a4a4a\" points=\"129.5,-190.1 126,-180.1 122.5,-190.1 129.5,-190.1\"/>\n",
       "</a>\n",
       "</g>\n",
       "</g>\n",
       "<!-- S&#45;&gt;HW -->\n",
       "<g id=\"edge8\" class=\"edge\">\n",
       "<title>S-&gt;HW</title>\n",
       "<g id=\"a_edge8\"><a xlink:title=\"(1, 5) : \">\n",
       "<path fill=\"none\" stroke=\"#4a4a4a\" d=\"M111.43,-218.83C101.25,-208.94 87.48,-195.55 75.97,-184.36\"/>\n",
       "<polygon fill=\"#4a4a4a\" stroke=\"#4a4a4a\" points=\"78.41,-181.85 68.8,-177.38 73.53,-186.87 78.41,-181.85\"/>\n",
       "</a>\n",
       "</g>\n",
       "</g>\n",
       "<!-- HW&#45;&gt;Su -->\n",
       "<g id=\"edge6\" class=\"edge\">\n",
       "<title>HW-&gt;Su</title>\n",
       "<g id=\"a_edge6\"><a xlink:title=\"(5, 6) : \">\n",
       "<path fill=\"none\" stroke=\"#4a4a4a\" d=\"M62.35,-144.76C66.71,-136.28 72.15,-125.71 77.04,-116.2\"/>\n",
       "<polygon fill=\"#4a4a4a\" stroke=\"#4a4a4a\" points=\"80.23,-117.64 81.7,-107.15 74.01,-114.44 80.23,-117.64\"/>\n",
       "</a>\n",
       "</g>\n",
       "</g>\n",
       "</g>\n",
       "</svg>"
      ],
      "text/plain": [
       "(pyAgrum.BayesNet<double>@0742C6E8) BN{nodes: 8, arcs: 11, domainSize: 256, dim: 54}"
      ]
     },
     "execution_count": 91,
     "metadata": {},
     "output_type": "execute_result"
    }
   ],
   "source": [
    "bn"
   ]
  },
  {
   "cell_type": "markdown",
   "metadata": {},
   "source": [
    "**Asignación de distribuciones de probabilidad de las variables de la red**  \n",
    "Se asignan los valores de probabilidad a los nodos padres. La función recibe un array el primer elemento es para el valor False y el segundo elemento para True."
   ]
  },
  {
   "cell_type": "code",
   "execution_count": 92,
   "metadata": {},
   "outputs": [
    {
     "data": {
      "text/html": [
       "<table style=\"border:1px solid black;\">\n",
       "<tr style='border:1px solid black;color:black;background-color:#808080'>\n",
       "      <th colspan='2'><center>P</center></th></tr>\n",
       "<tr><th style='border:1px solid black;border-bottom-style: double;color:black;background-color:#BBBBBB'>\n",
       "      <center>0</center></th><th style='border:1px solid black;border-bottom-style: double;color:black;background-color:#BBBBBB'>\n",
       "      <center>1</center></th></tr>\n",
       "<tr><td style='color:black;background-color:#ccb164;text-align:right;'>0.3978</td><td style='color:black;background-color:#b1cc64;text-align:right;'>0.6022</td></tr>\n",
       "</table>"
      ],
      "text/plain": [
       "(pyAgrum.Potential<double>@0421C2E8) \n",
       "  P                |\n",
       "0        |1        |\n",
       "---------|---------|\n",
       " 0.3978  | 0.6022  |"
      ]
     },
     "execution_count": 92,
     "metadata": {},
     "output_type": "execute_result"
    }
   ],
   "source": [
    "\n",
    "bn.cpt(c).fillWith([1-0.69932, 0.69932])\n",
    "bn.cpt(s).fillWith([1-0.70472, 0.70472])\n",
    "bn.cpt(p).fillWith([1-0.60216, 0.60216])"
   ]
  },
  {
   "cell_type": "markdown",
   "metadata": {},
   "source": [
    "**Tablas de Probabilidad Condicionada**  \n",
    "Se asignan los valores de probabilidad a los nodos hijos. La función recibe un diccionario con la llave y valor de los nodos padres. Posteriormente se asigna un array con el primer elemento para False y el segundo para True."
   ]
  },
  {
   "cell_type": "code",
   "execution_count": 93,
   "metadata": {},
   "outputs": [
    {
     "data": {
      "text/html": [
       "<table style=\"border:1px solid black;\">\n",
       "<tr><th colspan='2'></th>\n",
       "      <th colspan='2' style='border:1px solid black;color:black;background-color:#808080;'><center>M</center>\n",
       "      </th></tr>\n",
       "<tr><th style='border:1px solid black;color:black;background-color:#808080'><center>S</center></th><th style='border:1px solid black;color:black;background-color:#808080'><center>C</center></th><th style='border:1px solid black;border-bottom-style: double;color:black;background-color:#BBBBBB'>\n",
       "      <center>0</center></th><th style='border:1px solid black;border-bottom-style: double;color:black;background-color:#BBBBBB'>\n",
       "      <center>1</center></th></tr>\n",
       "<tr><th style='border:1px solid black;color:black;background-color:#BBBBBB;' rowspan = '2'>\n",
       "            <center>0</center></th><th style='border:1px solid black;color:black;background-color:#BBBBBB'><center>0</center></th><td style='color:black;background-color:#8eef64;text-align:right;'>0.8767</td><td style='color:black;background-color:#ef8e64;text-align:right;'>0.1233</td></tr>\n",
       "<tr><th style='border:1px solid black;color:black;background-color:#BBBBBB'><center>1</center></th><td style='color:black;background-color:#f18c64;text-align:right;'>0.1037</td><td style='color:black;background-color:#8cf164;text-align:right;'>0.8963</td></tr>\n",
       "<tr><th style='border:1px solid black;color:black;background-color:#BBBBBB;' rowspan = '2'>\n",
       "            <center>1</center></th><th style='border:1px solid black;color:black;background-color:#BBBBBB'><center>0</center></th><td style='color:black;background-color:#b3ca64;text-align:right;'>0.5865</td><td style='color:black;background-color:#cab364;text-align:right;'>0.4135</td></tr>\n",
       "<tr><th style='border:1px solid black;color:black;background-color:#BBBBBB'><center>1</center></th><td style='color:black;background-color:#d6a764;text-align:right;'>0.3144</td><td style='color:black;background-color:#a7d664;text-align:right;'>0.6856</td></tr>\n",
       "</table>"
      ],
      "text/plain": [
       "(pyAgrum.Potential<double>@0421C678) \n",
       "             ||  M                |\n",
       "C     |S     ||0        |1        |\n",
       "------|------||---------|---------|\n",
       "0     |0     || 0.8767  | 0.1233  |\n",
       "1     |0     || 0.1037  | 0.8963  |\n",
       "0     |1     || 0.5865  | 0.4135  |\n",
       "1     |1     || 0.3144  | 0.6856  |"
      ]
     },
     "execution_count": 93,
     "metadata": {},
     "output_type": "execute_result"
    }
   ],
   "source": [
    "# Tabla para Mac     P (mac = T | creative,smart)\n",
    "bn.cpt(m)[{'C': 1, 'S': 1}] = [1-0.68564, 0.68564]\n",
    "bn.cpt(m)[{'C': 1, 'S': 0}] = [1-0.89635, 0.89635]\n",
    "bn.cpt(m)[{'C': 0, 'S': 1}] = [1-0.41347, 0.41347]\n",
    "bn.cpt(m)[{'C': 0, 'S': 0}] = [1-0.12329, 0.12329]\n",
    "bn.cpt(m)"
   ]
  },
  {
   "cell_type": "code",
   "execution_count": 94,
   "metadata": {},
   "outputs": [
    {
     "data": {
      "text/html": [
       "<table style=\"border:1px solid black;\">\n",
       "<tr><th colspan='2'></th>\n",
       "      <th colspan='2' style='border:1px solid black;color:black;background-color:#808080;'><center>Pr</center>\n",
       "      </th></tr>\n",
       "<tr><th style='border:1px solid black;color:black;background-color:#808080'><center>S</center></th><th style='border:1px solid black;color:black;background-color:#808080'><center>C</center></th><th style='border:1px solid black;border-bottom-style: double;color:black;background-color:#BBBBBB'>\n",
       "      <center>0</center></th><th style='border:1px solid black;border-bottom-style: double;color:black;background-color:#BBBBBB'>\n",
       "      <center>1</center></th></tr>\n",
       "<tr><th style='border:1px solid black;color:black;background-color:#BBBBBB;' rowspan = '2'>\n",
       "            <center>0</center></th><th style='border:1px solid black;color:black;background-color:#BBBBBB'><center>0</center></th><td style='color:black;background-color:#8cf164;text-align:right;'>0.8927</td><td style='color:black;background-color:#f18c64;text-align:right;'>0.1073</td></tr>\n",
       "<tr><th style='border:1px solid black;color:black;background-color:#BBBBBB'><center>1</center></th><td style='color:black;background-color:#b2cb64;text-align:right;'>0.5969</td><td style='color:black;background-color:#cbb264;text-align:right;'>0.4031</td></tr>\n",
       "<tr><th style='border:1px solid black;color:black;background-color:#BBBBBB;' rowspan = '2'>\n",
       "            <center>1</center></th><th style='border:1px solid black;color:black;background-color:#BBBBBB'><center>0</center></th><td style='color:black;background-color:#e49964;text-align:right;'>0.2067</td><td style='color:black;background-color:#99e464;text-align:right;'>0.7933</td></tr>\n",
       "<tr><th style='border:1px solid black;color:black;background-color:#BBBBBB'><center>1</center></th><td style='color:black;background-color:#f28b64;text-align:right;'>0.0952</td><td style='color:black;background-color:#8bf264;text-align:right;'>0.9048</td></tr>\n",
       "</table>"
      ],
      "text/plain": [
       "(pyAgrum.Potential<double>@0421C390) \n",
       "             ||  Pr               |\n",
       "C     |S     ||0        |1        |\n",
       "------|------||---------|---------|\n",
       "0     |0     || 0.8927  | 0.1073  |\n",
       "1     |0     || 0.5969  | 0.4031  |\n",
       "0     |1     || 0.2067  | 0.7933  |\n",
       "1     |1     || 0.0952  | 0.9048  |"
      ]
     },
     "execution_count": 94,
     "metadata": {},
     "output_type": "execute_result"
    }
   ],
   "source": [
    "# Tabla para Project   P (project = T | creative,smart)\n",
    "bn.cpt(pr)[{'C': 1, 'S': 1}] = [1-0.90484, 0.90484]\n",
    "bn.cpt(pr)[{'C': 1, 'S': 0}] = [1-0.40307, 0.40307]\n",
    "bn.cpt(pr)[{'C': 0, 'S': 1}] = [1-0.79326, 0.79326]\n",
    "bn.cpt(pr)[{'C': 0, 'S': 0}] = [1-0.10731, 0.10731]\n",
    "bn.cpt(pr)"
   ]
  },
  {
   "cell_type": "code",
   "execution_count": 95,
   "metadata": {},
   "outputs": [
    {
     "data": {
      "text/html": [
       "<table style=\"border:1px solid black;\">\n",
       "<tr><th colspan='2'></th>\n",
       "      <th colspan='2' style='border:1px solid black;color:black;background-color:#808080;'><center>HW</center>\n",
       "      </th></tr>\n",
       "<tr><th style='border:1px solid black;color:black;background-color:#808080'><center>P</center></th><th style='border:1px solid black;color:black;background-color:#808080'><center>S</center></th><th style='border:1px solid black;border-bottom-style: double;color:black;background-color:#BBBBBB'>\n",
       "      <center>0</center></th><th style='border:1px solid black;border-bottom-style: double;color:black;background-color:#BBBBBB'>\n",
       "      <center>1</center></th></tr>\n",
       "<tr><th style='border:1px solid black;color:black;background-color:#BBBBBB;' rowspan = '2'>\n",
       "            <center>0</center></th><th style='border:1px solid black;color:black;background-color:#BBBBBB'><center>0</center></th><td style='color:black;background-color:#a6d764;text-align:right;'>0.6944</td><td style='color:black;background-color:#d7a664;text-align:right;'>0.3056</td></tr>\n",
       "<tr><th style='border:1px solid black;color:black;background-color:#BBBBBB'><center>1</center></th><td style='color:black;background-color:#f18c64;text-align:right;'>0.1021</td><td style='color:black;background-color:#8cf164;text-align:right;'>0.8979</td></tr>\n",
       "<tr><th style='border:1px solid black;color:black;background-color:#BBBBBB;' rowspan = '2'>\n",
       "            <center>1</center></th><th style='border:1px solid black;color:black;background-color:#BBBBBB'><center>0</center></th><td style='color:black;background-color:#8bf264;text-align:right;'>0.9055</td><td style='color:black;background-color:#f28b64;text-align:right;'>0.0945</td></tr>\n",
       "<tr><th style='border:1px solid black;color:black;background-color:#BBBBBB'><center>1</center></th><td style='color:black;background-color:#e59864;text-align:right;'>0.1975</td><td style='color:black;background-color:#98e564;text-align:right;'>0.8025</td></tr>\n",
       "</table>"
      ],
      "text/plain": [
       "(pyAgrum.Potential<double>@0421C660) \n",
       "             ||  HW               |\n",
       "S     |P     ||0        |1        |\n",
       "------|------||---------|---------|\n",
       "0     |0     || 0.6944  | 0.3056  |\n",
       "1     |0     || 0.1021  | 0.8979  |\n",
       "0     |1     || 0.9055  | 0.0945  |\n",
       "1     |1     || 0.1975  | 0.8025  |"
      ]
     },
     "execution_count": 95,
     "metadata": {},
     "output_type": "execute_result"
    }
   ],
   "source": [
    "# Tabla para HomeWork     P (hw = T |smart, party\n",
    "bn.cpt(hw)[{'S': 1, 'P': 1}] = [1-0.80252, 0.80252]\n",
    "bn.cpt(hw)[{'S': 1, 'P': 0}] = [1-0.89790, 0.89790]\n",
    "bn.cpt(hw)[{'S': 0, 'P': 1}] = [1-0.09447, 0.09447]\n",
    "bn.cpt(hw)[{'S': 0, 'P': 0}] = [1-0.30556, 0.30556]\n",
    "bn.cpt(hw)"
   ]
  },
  {
   "cell_type": "code",
   "execution_count": 96,
   "metadata": {},
   "outputs": [
    {
     "data": {
      "text/html": [
       "<table style=\"border:1px solid black;\">\n",
       "<tr><th colspan='3'></th>\n",
       "      <th colspan='2' style='border:1px solid black;color:black;background-color:#808080;'><center>H</center>\n",
       "      </th></tr>\n",
       "<tr><th style='border:1px solid black;color:black;background-color:#808080'><center>Su</center></th><th style='border:1px solid black;color:black;background-color:#808080'><center>M</center></th><th style='border:1px solid black;color:black;background-color:#808080'><center>P</center></th><th style='border:1px solid black;border-bottom-style: double;color:black;background-color:#BBBBBB'>\n",
       "      <center>0</center></th><th style='border:1px solid black;border-bottom-style: double;color:black;background-color:#BBBBBB'>\n",
       "      <center>1</center></th></tr>\n",
       "<tr><th style='border:1px solid black;color:black;background-color:#BBBBBB;' rowspan = '4'>\n",
       "            <center>0</center></th><th style='border:1px solid black;color:black;background-color:#BBBBBB;' rowspan = '2'>\n",
       "            <center>0</center></th><th style='border:1px solid black;color:black;background-color:#BBBBBB'><center>0</center></th><td style='color:black;background-color:#8bf264;text-align:right;'>0.9035</td><td style='color:black;background-color:#f28b64;text-align:right;'>0.0965</td></tr>\n",
       "<tr><th style='border:1px solid black;color:black;background-color:#BBBBBB'><center>1</center></th><td style='color:black;background-color:#b4c964;text-align:right;'>0.5796</td><td style='color:black;background-color:#c9b464;text-align:right;'>0.4204</td></tr>\n",
       "<tr><th style='border:1px solid black;color:black;background-color:#BBBBBB;' rowspan = '2'>\n",
       "            <center>1</center></th><th style='border:1px solid black;color:black;background-color:#BBBBBB'><center>0</center></th><td style='color:black;background-color:#99e464;text-align:right;'>0.7938</td><td style='color:black;background-color:#e49964;text-align:right;'>0.2062</td></tr>\n",
       "<tr><th style='border:1px solid black;color:black;background-color:#BBBBBB'><center>1</center></th><td style='color:black;background-color:#bebf64;text-align:right;'>0.5077</td><td style='color:black;background-color:#bfbe64;text-align:right;'>0.4923</td></tr>\n",
       "<tr><th style='border:1px solid black;color:black;background-color:#BBBBBB;' rowspan = '4'>\n",
       "            <center>1</center></th><th style='border:1px solid black;color:black;background-color:#BBBBBB;' rowspan = '2'>\n",
       "            <center>0</center></th><th style='border:1px solid black;color:black;background-color:#BBBBBB'><center>0</center></th><td style='color:black;background-color:#a6d764;text-align:right;'>0.6923</td><td style='color:black;background-color:#d7a664;text-align:right;'>0.3077</td></tr>\n",
       "<tr><th style='border:1px solid black;color:black;background-color:#BBBBBB'><center>1</center></th><td style='color:black;background-color:#dba264;text-align:right;'>0.2792</td><td style='color:black;background-color:#a2db64;text-align:right;'>0.7208</td></tr>\n",
       "<tr><th style='border:1px solid black;color:black;background-color:#BBBBBB;' rowspan = '2'>\n",
       "            <center>1</center></th><th style='border:1px solid black;color:black;background-color:#BBBBBB'><center>0</center></th><td style='color:black;background-color:#acd164;text-align:right;'>0.6416</td><td style='color:black;background-color:#d1ac64;text-align:right;'>0.3584</td></tr>\n",
       "<tr><th style='border:1px solid black;color:black;background-color:#BBBBBB'><center>1</center></th><td style='color:black;background-color:#f98464;text-align:right;'>0.0416</td><td style='color:black;background-color:#84f964;text-align:right;'>0.9584</td></tr>\n",
       "</table>"
      ],
      "text/plain": [
       "(pyAgrum.Potential<double>@0421C4E0) \n",
       "                    ||  H                |\n",
       "P     |M     |Su    ||0        |1        |\n",
       "------|------|------||---------|---------|\n",
       "0     |0     |0     || 0.9035  | 0.0965  |\n",
       "1     |0     |0     || 0.5796  | 0.4204  |\n",
       "0     |1     |0     || 0.7938  | 0.2062  |\n",
       "1     |1     |0     || 0.5077  | 0.4923  |\n",
       "0     |0     |1     || 0.6923  | 0.3077  |\n",
       "1     |0     |1     || 0.2792  | 0.7208  |\n",
       "0     |1     |1     || 0.6416  | 0.3584  |\n",
       "1     |1     |1     || 0.0416  | 0.9584  |"
      ]
     },
     "execution_count": 96,
     "metadata": {},
     "output_type": "execute_result"
    }
   ],
   "source": [
    "# Tabla para happy P (happy = T |success, mac, party)\n",
    "bn.cpt(h)[{'Su': 1, 'M': 1, 'P': 1 }] = [1-0.95842, 0.95842]\n",
    "bn.cpt(h)[{'Su': 1, 'M': 1, 'P': 0 }] = [1-0.35837, 0.35837]\n",
    "bn.cpt(h)[{'Su': 1, 'M': 0, 'P': 1 }] = [1-0.72082, 0.72082]\n",
    "bn.cpt(h)[{'Su': 1, 'M': 0, 'P': 0 }] = [1-0.30769, 0.30769]\n",
    "bn.cpt(h)[{'Su': 0, 'M': 1, 'P': 1 }] = [1-0.49234, 0.49234]\n",
    "bn.cpt(h)[{'Su': 0, 'M': 1, 'P': 0 }] = [1-0.20619, 0.20619]\n",
    "bn.cpt(h)[{'Su': 0, 'M': 0, 'P': 1 }] = [1-0.42043, 0.42043]\n",
    "bn.cpt(h)[{'Su': 0, 'M': 0, 'P': 0 }] = [1-0.09646, 0.09646]\n",
    "bn.cpt(h)"
   ]
  },
  {
   "cell_type": "code",
   "execution_count": 97,
   "metadata": {},
   "outputs": [
    {
     "data": {
      "text/html": [
       "<table style=\"border:1px solid black;\">\n",
       "<tr><th colspan='2'></th>\n",
       "      <th colspan='2' style='border:1px solid black;color:black;background-color:#808080;'><center>Su</center>\n",
       "      </th></tr>\n",
       "<tr><th style='border:1px solid black;color:black;background-color:#808080'><center>HW</center></th><th style='border:1px solid black;color:black;background-color:#808080'><center>Pr</center></th><th style='border:1px solid black;border-bottom-style: double;color:black;background-color:#BBBBBB'>\n",
       "      <center>0</center></th><th style='border:1px solid black;border-bottom-style: double;color:black;background-color:#BBBBBB'>\n",
       "      <center>1</center></th></tr>\n",
       "<tr><th style='border:1px solid black;color:black;background-color:#BBBBBB;' rowspan = '2'>\n",
       "            <center>0</center></th><th style='border:1px solid black;color:black;background-color:#BBBBBB'><center>0</center></th><td style='color:black;background-color:#85f864;text-align:right;'>0.9493</td><td style='color:black;background-color:#f88564;text-align:right;'>0.0507</td></tr>\n",
       "<tr><th style='border:1px solid black;color:black;background-color:#BBBBBB'><center>1</center></th><td style='color:black;background-color:#99e464;text-align:right;'>0.7926</td><td style='color:black;background-color:#e49964;text-align:right;'>0.2074</td></tr>\n",
       "<tr><th style='border:1px solid black;color:black;background-color:#BBBBBB;' rowspan = '2'>\n",
       "            <center>1</center></th><th style='border:1px solid black;color:black;background-color:#BBBBBB'><center>0</center></th><td style='color:black;background-color:#a6d764;text-align:right;'>0.6929</td><td style='color:black;background-color:#d7a664;text-align:right;'>0.3071</td></tr>\n",
       "<tr><th style='border:1px solid black;color:black;background-color:#BBBBBB'><center>1</center></th><td style='color:black;background-color:#f18c64;text-align:right;'>0.1037</td><td style='color:black;background-color:#8cf164;text-align:right;'>0.8963</td></tr>\n",
       "</table>"
      ],
      "text/plain": [
       "(pyAgrum.Potential<double>@0421C558) \n",
       "             ||  Su               |\n",
       "Pr    |HW    ||0        |1        |\n",
       "------|------||---------|---------|\n",
       "0     |0     || 0.9493  | 0.0507  |\n",
       "1     |0     || 0.7926  | 0.2074  |\n",
       "0     |1     || 0.6929  | 0.3071  |\n",
       "1     |1     || 0.1037  | 0.8963  |"
      ]
     },
     "execution_count": 97,
     "metadata": {},
     "output_type": "execute_result"
    }
   ],
   "source": [
    "# Tabla para Success   P (success = T | project, hw)\n",
    "bn.cpt(su)[{'Pr': 1, 'HW': 1}] = [1-0.89633, 0.89633]\n",
    "bn.cpt(su)[{'Pr': 1, 'HW': 0}] = [1-0.20737, 0.20737]\n",
    "bn.cpt(su)[{'Pr': 0, 'HW': 1}] = [1-0.30714, 0.30714]\n",
    "bn.cpt(su)[{'Pr': 0, 'HW': 0}] = [1-0.05066, 0.05066]\n",
    "bn.cpt(su)"
   ]
  },
  {
   "cell_type": "code",
   "execution_count": 98,
   "metadata": {},
   "outputs": [],
   "source": [
    "ie = gum.LazyPropagation(bn)"
   ]
  },
  {
   "cell_type": "markdown",
   "metadata": {},
   "source": [
    "**Consultas a la Red Bayesiana**"
   ]
  },
  {
   "cell_type": "markdown",
   "metadata": {},
   "source": [
    "**P**(feliz= True)"
   ]
  },
  {
   "cell_type": "code",
   "execution_count": 99,
   "metadata": {},
   "outputs": [
    {
     "name": "stdout",
     "output_type": "stream",
     "text": [
      "\n",
      "  H                |\n",
      "0        |1        |\n",
      "---------|---------|\n",
      " 0.4842  | 0.5158  |\n",
      "\n"
     ]
    }
   ],
   "source": [
    "ie.makeInference()\n",
    "print(ie.posterior(h))"
   ]
  },
  {
   "cell_type": "markdown",
   "metadata": {},
   "source": [
    "**P**(feliz= True| fiestas = True, inteligente = True, creativo = False)  \n",
    "Para este caso pasamos como variables de evidencia fiesta \"p\" con valor 1 (True), inteligente \"s\" con valor 1 (True) y creativo \"c\" con valor 0 (False)"
   ]
  },
  {
   "cell_type": "code",
   "execution_count": 101,
   "metadata": {},
   "outputs": [
    {
     "data": {
      "text/html": [
       "<table style=\"border:1px solid black;\">\n",
       "<tr style='border:1px solid black;color:black;background-color:#808080'>\n",
       "      <th colspan='2'><center>H</center></th></tr>\n",
       "<tr><th style='border:1px solid black;border-bottom-style: double;color:black;background-color:#BBBBBB'>\n",
       "      <center>0</center></th><th style='border:1px solid black;border-bottom-style: double;color:black;background-color:#BBBBBB'>\n",
       "      <center>1</center></th></tr>\n",
       "<tr><td style='color:black;background-color:#d7a664;text-align:right;'>0.3078</td><td style='color:black;background-color:#a6d764;text-align:right;'>0.6922</td></tr>\n",
       "</table>"
      ],
      "text/plain": [
       "(pyAgrum.Potential<double>@0743C610) \n",
       "  H                |\n",
       "0        |1        |\n",
       "---------|---------|\n",
       " 0.3078  | 0.6922  |"
      ]
     },
     "execution_count": 101,
     "metadata": {},
     "output_type": "execute_result"
    }
   ],
   "source": [
    "# Prob ser feliz dado que vas a fiestas, eres inteligente pero no eres creativo\n",
    "ie.setEvidence({p:1 , s:1, c:0 })\n",
    "ie.makeInference()\n",
    "ie.posterior(h)\n"
   ]
  },
  {
   "cell_type": "markdown",
   "metadata": {},
   "source": [
    "**P**(feliz= True|  inteligente = True, creativo = True)  \n",
    "Para este caso pasamos como variables de evidencia inteligente \"s\" con valor 1 (True) y creativo \"c\" con valor 1 (True)"
   ]
  },
  {
   "cell_type": "code",
   "execution_count": 103,
   "metadata": {},
   "outputs": [
    {
     "data": {
      "text/html": [
       "<table style=\"border:1px solid black;\">\n",
       "<tr style='border:1px solid black;color:black;background-color:#808080'>\n",
       "      <th colspan='2'><center>H</center></th></tr>\n",
       "<tr><th style='border:1px solid black;border-bottom-style: double;color:black;background-color:#BBBBBB'>\n",
       "      <center>0</center></th><th style='border:1px solid black;border-bottom-style: double;color:black;background-color:#BBBBBB'>\n",
       "      <center>1</center></th></tr>\n",
       "<tr><td style='color:black;background-color:#c9b464;text-align:right;'>0.4187</td><td style='color:black;background-color:#b4c964;text-align:right;'>0.5813</td></tr>\n",
       "</table>"
      ],
      "text/plain": [
       "(pyAgrum.Potential<double>@0421B0A0) \n",
       "  H                |\n",
       "0        |1        |\n",
       "---------|---------|\n",
       " 0.4187  | 0.5813  |"
      ]
     },
     "execution_count": 103,
     "metadata": {},
     "output_type": "execute_result"
    }
   ],
   "source": [
    "# Prob ser feliz dado que  eres inteligente y creativo\n",
    "ie.setEvidence({s:1 , c:1 })\n",
    "ie.makeInference()\n",
    "ie.posterior(h)\n"
   ]
  },
  {
   "cell_type": "markdown",
   "metadata": {},
   "source": [
    "**P**(feliz= True|  fiestas = False, Tarea = True, proyectos = True)  \n",
    "Para este caso pasamos como variables de evidencia fiestas \"p\" con valor 0 (False) y Tarea \"hw\" con valor 1 (True)  y proyectos \"pr\" con valor 1 (True)"
   ]
  },
  {
   "cell_type": "code",
   "execution_count": 104,
   "metadata": {},
   "outputs": [
    {
     "data": {
      "text/html": [
       "<table style=\"border:1px solid black;\">\n",
       "<tr style='border:1px solid black;color:black;background-color:#808080'>\n",
       "      <th colspan='2'><center>H</center></th></tr>\n",
       "<tr><th style='border:1px solid black;border-bottom-style: double;color:black;background-color:#BBBBBB'>\n",
       "      <center>0</center></th><th style='border:1px solid black;border-bottom-style: double;color:black;background-color:#BBBBBB'>\n",
       "      <center>1</center></th></tr>\n",
       "<tr><td style='color:black;background-color:#a8d564;text-align:right;'>0.6789</td><td style='color:black;background-color:#d5a864;text-align:right;'>0.3211</td></tr>\n",
       "</table>"
      ],
      "text/plain": [
       "(pyAgrum.Potential<double>@07453AB8) \n",
       "  H                |\n",
       "0        |1        |\n",
       "---------|---------|\n",
       " 0.6789  | 0.3211  |"
      ]
     },
     "execution_count": 104,
     "metadata": {},
     "output_type": "execute_result"
    }
   ],
   "source": [
    "# La probabilidad de ser feliz dado que no vas a fiestas, haces tus tareas y proyectos\n",
    "ie.setEvidence({p:0 , hw:1, pr: 1 })\n",
    "ie.makeInference()\n",
    "ie.posterior(h)"
   ]
  },
  {
   "cell_type": "markdown",
   "metadata": {},
   "source": [
    "**P**(feliz= True|  Mac = True)  \n",
    "Para este caso pasamos como variable de evidencia tener un Mac \"m\" con valor 1 (True) "
   ]
  },
  {
   "cell_type": "code",
   "execution_count": 105,
   "metadata": {},
   "outputs": [
    {
     "data": {
      "text/html": [
       "<table style=\"border:1px solid black;\">\n",
       "<tr style='border:1px solid black;color:black;background-color:#808080'>\n",
       "      <th colspan='2'><center>H</center></th></tr>\n",
       "<tr><th style='border:1px solid black;border-bottom-style: double;color:black;background-color:#BBBBBB'>\n",
       "      <center>0</center></th><th style='border:1px solid black;border-bottom-style: double;color:black;background-color:#BBBBBB'>\n",
       "      <center>1</center></th></tr>\n",
       "<tr><td style='color:black;background-color:#c7b664;text-align:right;'>0.4373</td><td style='color:black;background-color:#b6c764;text-align:right;'>0.5627</td></tr>\n",
       "</table>"
      ],
      "text/plain": [
       "(pyAgrum.Potential<double>@0743C028) \n",
       "  H                |\n",
       "0        |1        |\n",
       "---------|---------|\n",
       " 0.4373  | 0.5627  |"
      ]
     },
     "execution_count": 105,
     "metadata": {},
     "output_type": "execute_result"
    }
   ],
   "source": [
    "ie.setEvidence({m: 1 })\n",
    "ie.makeInference()\n",
    "ie.posterior(h)"
   ]
  },
  {
   "cell_type": "markdown",
   "metadata": {},
   "source": [
    "**P**(fiesta= True|  inteligente = True)  \n",
    "Para este caso pasamos como variable de evidencia inteligente \"s\" con valor 1 (True) "
   ]
  },
  {
   "cell_type": "code",
   "execution_count": 106,
   "metadata": {},
   "outputs": [
    {
     "data": {
      "text/html": [
       "<table style=\"border:1px solid black;\">\n",
       "<tr style='border:1px solid black;color:black;background-color:#808080'>\n",
       "      <th colspan='2'><center>P</center></th></tr>\n",
       "<tr><th style='border:1px solid black;border-bottom-style: double;color:black;background-color:#BBBBBB'>\n",
       "      <center>0</center></th><th style='border:1px solid black;border-bottom-style: double;color:black;background-color:#BBBBBB'>\n",
       "      <center>1</center></th></tr>\n",
       "<tr><td style='color:black;background-color:#ccb164;text-align:right;'>0.3978</td><td style='color:black;background-color:#b1cc64;text-align:right;'>0.6022</td></tr>\n",
       "</table>"
      ],
      "text/plain": [
       "(pyAgrum.Potential<double>@0421B9E8) \n",
       "  P                |\n",
       "0        |1        |\n",
       "---------|---------|\n",
       " 0.3978  | 0.6022  |"
      ]
     },
     "execution_count": 106,
     "metadata": {},
     "output_type": "execute_result"
    }
   ],
   "source": [
    "ie.setEvidence({s: 1 })\n",
    "ie.makeInference()\n",
    "ie.posterior(p)"
   ]
  },
  {
   "cell_type": "markdown",
   "metadata": {},
   "source": [
    "**P**(fiesta= True|  inteligente = True, feliz = True)  \n",
    "Para este caso pasamos como variables de evidencia inteligente \"s\" con valor 1 (True) y feliz con valor 1 (True)"
   ]
  },
  {
   "cell_type": "code",
   "execution_count": 107,
   "metadata": {},
   "outputs": [
    {
     "data": {
      "text/html": [
       "<table style=\"border:1px solid black;\">\n",
       "<tr style='border:1px solid black;color:black;background-color:#808080'>\n",
       "      <th colspan='2'><center>P</center></th></tr>\n",
       "<tr><th style='border:1px solid black;border-bottom-style: double;color:black;background-color:#BBBBBB'>\n",
       "      <center>0</center></th><th style='border:1px solid black;border-bottom-style: double;color:black;background-color:#BBBBBB'>\n",
       "      <center>1</center></th></tr>\n",
       "<tr><td style='color:black;background-color:#e49964;text-align:right;'>0.2080</td><td style='color:black;background-color:#99e464;text-align:right;'>0.7920</td></tr>\n",
       "</table>"
      ],
      "text/plain": [
       "(pyAgrum.Potential<double>@07431D80) \n",
       "  P                |\n",
       "0        |1        |\n",
       "---------|---------|\n",
       " 0.2080  | 0.7920  |"
      ]
     },
     "execution_count": 107,
     "metadata": {},
     "output_type": "execute_result"
    }
   ],
   "source": [
    "ie.setEvidence({s: 1, h:1 })\n",
    "ie.makeInference()\n",
    "ie.posterior(p)"
   ]
  }
 ],
 "metadata": {
  "kernelspec": {
   "display_name": "Python 3.8.1 32-bit",
   "language": "python",
   "name": "python3"
  },
  "language_info": {
   "codemirror_mode": {
    "name": "ipython",
    "version": 3
   },
   "file_extension": ".py",
   "mimetype": "text/x-python",
   "name": "python",
   "nbconvert_exporter": "python",
   "pygments_lexer": "ipython3",
   "version": "3.8.1"
  },
  "orig_nbformat": 4,
  "vscode": {
   "interpreter": {
    "hash": "dbd870ce3ecbb50051e36c03c034f91bd0ffd37935fd5f5a0057175bdb6e15f6"
   }
  }
 },
 "nbformat": 4,
 "nbformat_minor": 2
}
