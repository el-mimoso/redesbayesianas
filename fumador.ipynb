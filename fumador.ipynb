{
 "cells": [
  {
   "cell_type": "code",
   "execution_count": 15,
   "metadata": {},
   "outputs": [],
   "source": [
    "import pyAgrum as gum\n",
    "import pyAgrum.lib.notebook as gnb"
   ]
  },
  {
   "cell_type": "markdown",
   "metadata": {},
   "source": [
    "### Creación de la Red Bayesiana"
   ]
  },
  {
   "cell_type": "code",
   "execution_count": 16,
   "metadata": {},
   "outputs": [],
   "source": [
    "bn = gum.BayesNet()"
   ]
  },
  {
   "cell_type": "code",
   "execution_count": 17,
   "metadata": {},
   "outputs": [
    {
     "data": {
      "text/html": [
       "<svg xmlns=\"http://www.w3.org/2000/svg\" xmlns:xlink=\"http://www.w3.org/1999/xlink\" width=\"350pt\" height=\"44pt\" viewBox=\"0.00 0.00 350.00 44.00\">\n",
       "<g id=\"graph0\" class=\"graph\" transform=\"scale(1 1) rotate(0) translate(4 40)\">\n",
       "<title>G</title>\n",
       "<!-- d -->\n",
       "<g id=\"node1\" class=\"node\">\n",
       "<title>d</title>\n",
       "<g id=\"a_node1\"><a xlink:title=\"(0) d\">\n",
       "<ellipse fill=\"#404040\" stroke=\"black\" cx=\"27\" cy=\"-18\" rx=\"27\" ry=\"18\"/>\n",
       "<text text-anchor=\"middle\" x=\"27\" y=\"-14.3\" font-family=\"Times New Roman,serif\" font-size=\"14.00\" fill=\"white\">d</text>\n",
       "</a>\n",
       "</g>\n",
       "</g>\n",
       "<!-- s -->\n",
       "<g id=\"node2\" class=\"node\">\n",
       "<title>s</title>\n",
       "<g id=\"a_node2\"><a xlink:title=\"(2) s\">\n",
       "<ellipse fill=\"#404040\" stroke=\"black\" cx=\"99\" cy=\"-18\" rx=\"27\" ry=\"18\"/>\n",
       "<text text-anchor=\"middle\" x=\"99\" y=\"-14.3\" font-family=\"Times New Roman,serif\" font-size=\"14.00\" fill=\"white\">s</text>\n",
       "</a>\n",
       "</g>\n",
       "</g>\n",
       "<!-- f -->\n",
       "<g id=\"node3\" class=\"node\">\n",
       "<title>f</title>\n",
       "<g id=\"a_node3\"><a xlink:title=\"(3) f\">\n",
       "<ellipse fill=\"#404040\" stroke=\"black\" cx=\"171\" cy=\"-18\" rx=\"27\" ry=\"18\"/>\n",
       "<text text-anchor=\"middle\" x=\"171\" y=\"-14.3\" font-family=\"Times New Roman,serif\" font-size=\"14.00\" fill=\"white\">f</text>\n",
       "</a>\n",
       "</g>\n",
       "</g>\n",
       "<!-- i -->\n",
       "<g id=\"node4\" class=\"node\">\n",
       "<title>i</title>\n",
       "<g id=\"a_node4\"><a xlink:title=\"(4) i\">\n",
       "<ellipse fill=\"#404040\" stroke=\"black\" cx=\"243\" cy=\"-18\" rx=\"27\" ry=\"18\"/>\n",
       "<text text-anchor=\"middle\" x=\"243\" y=\"-14.3\" font-family=\"Times New Roman,serif\" font-size=\"14.00\" fill=\"white\">i</text>\n",
       "</a>\n",
       "</g>\n",
       "</g>\n",
       "<!-- a -->\n",
       "<g id=\"node5\" class=\"node\">\n",
       "<title>a</title>\n",
       "<g id=\"a_node5\"><a xlink:title=\"(1) a\">\n",
       "<ellipse fill=\"#404040\" stroke=\"black\" cx=\"315\" cy=\"-18\" rx=\"27\" ry=\"18\"/>\n",
       "<text text-anchor=\"middle\" x=\"315\" y=\"-14.3\" font-family=\"Times New Roman,serif\" font-size=\"14.00\" fill=\"white\">a</text>\n",
       "</a>\n",
       "</g>\n",
       "</g>\n",
       "</g>\n",
       "</svg>"
      ],
      "text/plain": [
       "(pyAgrum.BayesNet<double>@06FC3108) BN{nodes: 5, arcs: 0, domainSize: 32, dim: 10}"
      ]
     },
     "execution_count": 17,
     "metadata": {},
     "output_type": "execute_result"
    }
   ],
   "source": [
    "d =  bn.add(gum.LabelizedVariable('d','deporte', 2))\n",
    "a =  bn.add(gum.LabelizedVariable('a','buena alimentacion', 2))\n",
    "s =  bn.add(gum.LabelizedVariable('s','hipertension', 2))\n",
    "f =  bn.add(gum.LabelizedVariable('f','fumador', 2))\n",
    "i =  bn.add(gum.LabelizedVariable('i','infarto', 2))\n",
    "bn"
   ]
  },
  {
   "cell_type": "code",
   "execution_count": 18,
   "metadata": {},
   "outputs": [],
   "source": [
    "#creamos union entre los nodos.\n",
    "\n",
    "bn.addArc(d,s)\n",
    "bn.addArc(a,s)\n",
    "bn.addArc(s,i)\n",
    "bn.addArc(f,i)\n"
   ]
  },
  {
   "cell_type": "code",
   "execution_count": 19,
   "metadata": {},
   "outputs": [
    {
     "data": {
      "text/html": [
       "<svg xmlns=\"http://www.w3.org/2000/svg\" xmlns:xlink=\"http://www.w3.org/1999/xlink\" width=\"170pt\" height=\"188pt\" viewBox=\"0.00 0.00 170.00 188.00\">\n",
       "<g id=\"graph0\" class=\"graph\" transform=\"scale(1 1) rotate(0) translate(4 184)\">\n",
       "<title>G</title>\n",
       "<!-- d -->\n",
       "<g id=\"node1\" class=\"node\">\n",
       "<title>d</title>\n",
       "<g id=\"a_node1\"><a xlink:title=\"(0) d\">\n",
       "<ellipse fill=\"#404040\" stroke=\"black\" cx=\"27\" cy=\"-162\" rx=\"27\" ry=\"18\"/>\n",
       "<text text-anchor=\"middle\" x=\"27\" y=\"-158.3\" font-family=\"Times New Roman,serif\" font-size=\"14.00\" fill=\"white\">d</text>\n",
       "</a>\n",
       "</g>\n",
       "</g>\n",
       "<!-- s -->\n",
       "<g id=\"node2\" class=\"node\">\n",
       "<title>s</title>\n",
       "<g id=\"a_node2\"><a xlink:title=\"(2) s\">\n",
       "<ellipse fill=\"#404040\" stroke=\"black\" cx=\"63\" cy=\"-90\" rx=\"27\" ry=\"18\"/>\n",
       "<text text-anchor=\"middle\" x=\"63\" y=\"-86.3\" font-family=\"Times New Roman,serif\" font-size=\"14.00\" fill=\"white\">s</text>\n",
       "</a>\n",
       "</g>\n",
       "</g>\n",
       "<!-- d&#45;&gt;s -->\n",
       "<g id=\"edge3\" class=\"edge\">\n",
       "<title>d-&gt;s</title>\n",
       "<g id=\"a_edge3\"><a xlink:title=\"(0, 2) : \">\n",
       "<path fill=\"none\" stroke=\"#4a4a4a\" d=\"M35.35,-144.76C39.71,-136.28 45.15,-125.71 50.04,-116.2\"/>\n",
       "<polygon fill=\"#4a4a4a\" stroke=\"#4a4a4a\" points=\"53.23,-117.64 54.7,-107.15 47.01,-114.44 53.23,-117.64\"/>\n",
       "</a>\n",
       "</g>\n",
       "</g>\n",
       "<!-- i -->\n",
       "<g id=\"node4\" class=\"node\">\n",
       "<title>i</title>\n",
       "<g id=\"a_node4\"><a xlink:title=\"(4) i\">\n",
       "<ellipse fill=\"#404040\" stroke=\"black\" cx=\"99\" cy=\"-18\" rx=\"27\" ry=\"18\"/>\n",
       "<text text-anchor=\"middle\" x=\"99\" y=\"-14.3\" font-family=\"Times New Roman,serif\" font-size=\"14.00\" fill=\"white\">i</text>\n",
       "</a>\n",
       "</g>\n",
       "</g>\n",
       "<!-- s&#45;&gt;i -->\n",
       "<g id=\"edge4\" class=\"edge\">\n",
       "<title>s-&gt;i</title>\n",
       "<g id=\"a_edge4\"><a xlink:title=\"(2, 4) : \">\n",
       "<path fill=\"none\" stroke=\"#4a4a4a\" d=\"M71.35,-72.76C75.71,-64.28 81.15,-53.71 86.04,-44.2\"/>\n",
       "<polygon fill=\"#4a4a4a\" stroke=\"#4a4a4a\" points=\"89.23,-45.64 90.7,-35.15 83.01,-42.44 89.23,-45.64\"/>\n",
       "</a>\n",
       "</g>\n",
       "</g>\n",
       "<!-- f -->\n",
       "<g id=\"node3\" class=\"node\">\n",
       "<title>f</title>\n",
       "<g id=\"a_node3\"><a xlink:title=\"(3) f\">\n",
       "<ellipse fill=\"#404040\" stroke=\"black\" cx=\"135\" cy=\"-90\" rx=\"27\" ry=\"18\"/>\n",
       "<text text-anchor=\"middle\" x=\"135\" y=\"-86.3\" font-family=\"Times New Roman,serif\" font-size=\"14.00\" fill=\"white\">f</text>\n",
       "</a>\n",
       "</g>\n",
       "</g>\n",
       "<!-- f&#45;&gt;i -->\n",
       "<g id=\"edge2\" class=\"edge\">\n",
       "<title>f-&gt;i</title>\n",
       "<g id=\"a_edge2\"><a xlink:title=\"(3, 4) : \">\n",
       "<path fill=\"none\" stroke=\"#4a4a4a\" d=\"M126.65,-72.76C122.29,-64.28 116.85,-53.71 111.96,-44.2\"/>\n",
       "<polygon fill=\"#4a4a4a\" stroke=\"#4a4a4a\" points=\"114.99,-42.44 107.3,-35.15 108.77,-45.64 114.99,-42.44\"/>\n",
       "</a>\n",
       "</g>\n",
       "</g>\n",
       "<!-- a -->\n",
       "<g id=\"node5\" class=\"node\">\n",
       "<title>a</title>\n",
       "<g id=\"a_node5\"><a xlink:title=\"(1) a\">\n",
       "<ellipse fill=\"#404040\" stroke=\"black\" cx=\"99\" cy=\"-162\" rx=\"27\" ry=\"18\"/>\n",
       "<text text-anchor=\"middle\" x=\"99\" y=\"-158.3\" font-family=\"Times New Roman,serif\" font-size=\"14.00\" fill=\"white\">a</text>\n",
       "</a>\n",
       "</g>\n",
       "</g>\n",
       "<!-- a&#45;&gt;s -->\n",
       "<g id=\"edge1\" class=\"edge\">\n",
       "<title>a-&gt;s</title>\n",
       "<g id=\"a_edge1\"><a xlink:title=\"(1, 2) : \">\n",
       "<path fill=\"none\" stroke=\"#4a4a4a\" d=\"M90.65,-144.76C86.29,-136.28 80.85,-125.71 75.96,-116.2\"/>\n",
       "<polygon fill=\"#4a4a4a\" stroke=\"#4a4a4a\" points=\"78.99,-114.44 71.3,-107.15 72.77,-117.64 78.99,-114.44\"/>\n",
       "</a>\n",
       "</g>\n",
       "</g>\n",
       "</g>\n",
       "</svg>"
      ],
      "text/plain": [
       "(pyAgrum.BayesNet<double>@06FC3108) BN{nodes: 5, arcs: 4, domainSize: 32, dim: 22}"
      ]
     },
     "execution_count": 19,
     "metadata": {},
     "output_type": "execute_result"
    }
   ],
   "source": [
    "\n",
    "bn"
   ]
  },
  {
   "cell_type": "code",
   "execution_count": 20,
   "metadata": {},
   "outputs": [
    {
     "data": {
      "text/html": [
       "<table style=\"border:1px solid black;\">\n",
       "<tr style='border:1px solid black;color:black;background-color:#808080'>\n",
       "      <th colspan='2'><center>f</center></th></tr>\n",
       "<tr><th style='border:1px solid black;border-bottom-style: double;color:black;background-color:#BBBBBB'>\n",
       "      <center>0</center></th><th style='border:1px solid black;border-bottom-style: double;color:black;background-color:#BBBBBB'>\n",
       "      <center>1</center></th></tr>\n",
       "<tr><td style='color:black;background-color:#b2cb64;text-align:right;'>0.6000</td><td style='color:black;background-color:#cbb264;text-align:right;'>0.4000</td></tr>\n",
       "</table>"
      ],
      "text/plain": [
       "(pyAgrum.Potential<double>@06FE6AB8) \n",
       "  f                |\n",
       "0        |1        |\n",
       "---------|---------|\n",
       " 0.6000  | 0.4000  |"
      ]
     },
     "execution_count": 20,
     "metadata": {},
     "output_type": "execute_result"
    }
   ],
   "source": [
    "# Llenado de conditional probability tables. \n",
    "bn.cpt(d).fillWith([1-0.1, 0.1])\n",
    "bn.cpt(a).fillWith([1-0.4, 0.4])\n",
    "bn.cpt(f).fillWith([1-0.4, 0.4])"
   ]
  },
  {
   "cell_type": "code",
   "execution_count": 21,
   "metadata": {},
   "outputs": [
    {
     "data": {
      "text/html": [
       "<table style=\"border:1px solid black;\">\n",
       "<tr><th colspan='2'></th>\n",
       "      <th colspan='2' style='border:1px solid black;color:black;background-color:#808080;'><center>s</center>\n",
       "      </th></tr>\n",
       "<tr><th style='border:1px solid black;color:black;background-color:#808080'><center>a</center></th><th style='border:1px solid black;color:black;background-color:#808080'><center>d</center></th><th style='border:1px solid black;border-bottom-style: double;color:black;background-color:#BBBBBB'>\n",
       "      <center>0</center></th><th style='border:1px solid black;border-bottom-style: double;color:black;background-color:#BBBBBB'>\n",
       "      <center>1</center></th></tr>\n",
       "<tr><th style='border:1px solid black;color:black;background-color:#BBBBBB;' rowspan = '2'>\n",
       "            <center>0</center></th><th style='border:1px solid black;color:black;background-color:#BBBBBB'><center>0</center></th><td style='color:black;background-color:#d8a564;text-align:right;'>0.3000</td><td style='color:black;background-color:#a5d864;text-align:right;'>0.7000</td></tr>\n",
       "<tr><th style='border:1px solid black;color:black;background-color:#BBBBBB'><center>1</center></th><td style='color:black;background-color:#81fc64;text-align:right;'>0.9800</td><td style='color:black;background-color:#fc8164;text-align:right;'>0.0200</td></tr>\n",
       "<tr><th style='border:1px solid black;color:black;background-color:#BBBBBB;' rowspan = '2'>\n",
       "            <center>1</center></th><th style='border:1px solid black;color:black;background-color:#BBBBBB'><center>0</center></th><td style='color:black;background-color:#9fdf64;text-align:right;'>0.7500</td><td style='color:black;background-color:#df9f64;text-align:right;'>0.2500</td></tr>\n",
       "<tr><th style='border:1px solid black;color:black;background-color:#BBBBBB'><center>1</center></th><td style='color:black;background-color:#80fd64;text-align:right;'>0.9900</td><td style='color:black;background-color:#fd8064;text-align:right;'>0.0100</td></tr>\n",
       "</table>"
      ],
      "text/plain": [
       "(pyAgrum.Potential<double>@06FE6B48) \n",
       "             ||  s                |\n",
       "d     |a     ||0        |1        |\n",
       "------|------||---------|---------|\n",
       "0     |0     || 0.3000  | 0.7000  |\n",
       "1     |0     || 0.9800  | 0.0200  |\n",
       "0     |1     || 0.7500  | 0.2500  |\n",
       "1     |1     || 0.9900  | 0.0100  |"
      ]
     },
     "execution_count": 21,
     "metadata": {},
     "output_type": "execute_result"
    }
   ],
   "source": [
    "# tabla de s\n",
    "bn.cpt(s)[{'a': 1, 'd': 1}] = [1-0.01, 0.01]\n",
    "bn.cpt(s)[{'a': 0, 'd': 1}] = [1-0.02, 0.02]\n",
    "bn.cpt(s)[{'a': 1, 'd': 0}] = [1-0.25, 0.25]\n",
    "bn.cpt(s)[{'a': 0, 'd': 0}] = [1-0.7, 0.7]\n",
    "bn.cpt(s)"
   ]
  },
  {
   "cell_type": "code",
   "execution_count": 22,
   "metadata": {},
   "outputs": [
    {
     "data": {
      "text/html": [
       "<table style=\"border:1px solid black;\">\n",
       "<tr><th colspan='2'></th>\n",
       "      <th colspan='2' style='border:1px solid black;color:black;background-color:#808080;'><center>i</center>\n",
       "      </th></tr>\n",
       "<tr><th style='border:1px solid black;color:black;background-color:#808080'><center>f</center></th><th style='border:1px solid black;color:black;background-color:#808080'><center>s</center></th><th style='border:1px solid black;border-bottom-style: double;color:black;background-color:#BBBBBB'>\n",
       "      <center>0</center></th><th style='border:1px solid black;border-bottom-style: double;color:black;background-color:#BBBBBB'>\n",
       "      <center>1</center></th></tr>\n",
       "<tr><th style='border:1px solid black;color:black;background-color:#BBBBBB;' rowspan = '2'>\n",
       "            <center>0</center></th><th style='border:1px solid black;color:black;background-color:#BBBBBB'><center>0</center></th><td style='color:black;background-color:#a5d864;text-align:right;'>0.7000</td><td style='color:black;background-color:#d8a564;text-align:right;'>0.3000</td></tr>\n",
       "<tr><th style='border:1px solid black;color:black;background-color:#BBBBBB'><center>1</center></th><td style='color:black;background-color:#d8a564;text-align:right;'>0.3000</td><td style='color:black;background-color:#a5d864;text-align:right;'>0.7000</td></tr>\n",
       "<tr><th style='border:1px solid black;color:black;background-color:#BBBBBB;' rowspan = '2'>\n",
       "            <center>1</center></th><th style='border:1px solid black;color:black;background-color:#BBBBBB'><center>0</center></th><td style='color:black;background-color:#cbb264;text-align:right;'>0.4000</td><td style='color:black;background-color:#b2cb64;text-align:right;'>0.6000</td></tr>\n",
       "<tr><th style='border:1px solid black;color:black;background-color:#BBBBBB'><center>1</center></th><td style='color:black;background-color:#e59864;text-align:right;'>0.2000</td><td style='color:black;background-color:#98e564;text-align:right;'>0.8000</td></tr>\n",
       "</table>"
      ],
      "text/plain": [
       "(pyAgrum.Potential<double>@06FE6D70) \n",
       "             ||  i                |\n",
       "s     |f     ||0        |1        |\n",
       "------|------||---------|---------|\n",
       "0     |0     || 0.7000  | 0.3000  |\n",
       "1     |0     || 0.3000  | 0.7000  |\n",
       "0     |1     || 0.4000  | 0.6000  |\n",
       "1     |1     || 0.2000  | 0.8000  |"
      ]
     },
     "execution_count": 22,
     "metadata": {},
     "output_type": "execute_result"
    }
   ],
   "source": [
    "# I\n",
    "bn.cpt(i)[{'s': 1, 'f': 1}] = [1-0.8, 0.8]\n",
    "bn.cpt(i)[{'s': 0, 'f': 1}] = [1-0.6, 0.6]\n",
    "bn.cpt(i)[{'s': 1, 'f': 0}] = [1-0.7, 0.7]\n",
    "bn.cpt(i)[{'s': 0, 'f': 0}] = [1-0.3, 0.3]\n",
    "bn.cpt(i)"
   ]
  },
  {
   "cell_type": "code",
   "execution_count": 23,
   "metadata": {},
   "outputs": [],
   "source": [
    "ie = gum.LazyPropagation(bn)"
   ]
  },
  {
   "cell_type": "code",
   "execution_count": 24,
   "metadata": {},
   "outputs": [
    {
     "name": "stdout",
     "output_type": "stream",
     "text": [
      "\n",
      "  i                |\n",
      "0        |1        |\n",
      "---------|---------|\n",
      " 0.4297  | 0.5703  |\n",
      "\n"
     ]
    }
   ],
   "source": [
    "ie.makeInference()\n",
    "print(ie.posterior(i))"
   ]
  },
  {
   "cell_type": "code",
   "execution_count": 25,
   "metadata": {},
   "outputs": [
    {
     "data": {
      "text/html": [
       "<table style=\"border:1px solid black;\">\n",
       "<tr style='border:1px solid black;color:black;background-color:#808080'>\n",
       "      <th colspan='2'><center>f</center></th></tr>\n",
       "<tr><th style='border:1px solid black;border-bottom-style: double;color:black;background-color:#BBBBBB'>\n",
       "      <center>0</center></th><th style='border:1px solid black;border-bottom-style: double;color:black;background-color:#BBBBBB'>\n",
       "      <center>1</center></th></tr>\n",
       "<tr><td style='color:black;background-color:#bcc164;text-align:right;'>0.5198</td><td style='color:black;background-color:#c1bc64;text-align:right;'>0.4802</td></tr>\n",
       "</table>"
      ],
      "text/plain": [
       "(pyAgrum.Potential<double>@06FDAA88) \n",
       "  f                |\n",
       "0        |1        |\n",
       "---------|---------|\n",
       " 0.5198  | 0.4802  |"
      ]
     },
     "execution_count": 25,
     "metadata": {},
     "output_type": "execute_result"
    }
   ],
   "source": [
    "# Prob de ser fumador si ha tenido un  infarto y no se hace deporte\n",
    "ie.setEvidence({i: 1, d: 0 })\n",
    "ie.makeInference()\n",
    "ie.posterior(f)\n"
   ]
  }
 ],
 "metadata": {
  "kernelspec": {
   "display_name": "Python 3.8.1 32-bit",
   "language": "python",
   "name": "python3"
  },
  "language_info": {
   "codemirror_mode": {
    "name": "ipython",
    "version": 3
   },
   "file_extension": ".py",
   "mimetype": "text/x-python",
   "name": "python",
   "nbconvert_exporter": "python",
   "pygments_lexer": "ipython3",
   "version": "3.8.1"
  },
  "orig_nbformat": 4,
  "vscode": {
   "interpreter": {
    "hash": "dbd870ce3ecbb50051e36c03c034f91bd0ffd37935fd5f5a0057175bdb6e15f6"
   }
  }
 },
 "nbformat": 4,
 "nbformat_minor": 2
}
